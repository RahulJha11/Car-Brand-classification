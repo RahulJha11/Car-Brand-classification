{
  "nbformat": 4,
  "nbformat_minor": 0,
  "metadata": {
    "colab": {
      "name": "Locobuzz_test.ipynb",
      "provenance": [],
      "toc_visible": true,
      "authorship_tag": "ABX9TyM1lw3Xtmr//3s+80Lveg7K",
      "include_colab_link": true
    },
    "kernelspec": {
      "name": "python3",
      "display_name": "Python 3"
    }
  },
  "cells": [
    {
      "cell_type": "markdown",
      "metadata": {
        "id": "view-in-github",
        "colab_type": "text"
      },
      "source": [
        "<a href=\"https://colab.research.google.com/github/RahulJha11/Car-Brand-classification/blob/master/Locobuzz_test.ipynb\" target=\"_parent\"><img src=\"https://colab.research.google.com/assets/colab-badge.svg\" alt=\"Open In Colab\"/></a>"
      ]
    },
    {
      "cell_type": "markdown",
      "metadata": {
        "id": "YZRQYNFy6EeP"
      },
      "source": [
        "### Q1) Write a list comprehension to create a list of integers from 0 to 100 which are not divisible by 6 or 10?"
      ]
    },
    {
      "cell_type": "code",
      "metadata": {
        "colab": {
          "base_uri": "https://localhost:8080/"
        },
        "id": "RfgPpbf61ySy",
        "outputId": "36c35e21-0103-4f3f-f790-dd5adb5fcf20"
      },
      "source": [
        "# def result(N):\r\n",
        "#   num = []\r\n",
        "#   for i in range(N):\r\n",
        "#     if (i % 6 != 0 and i %10 != 0):\r\n",
        "#       num.append(i)\r\n",
        "#   print(num)\r\n",
        "\r\n",
        "# if __name__ == \"__main__\":\r\n",
        "#   N = 100\r\n",
        "#   result(N)\r\n",
        "\r\n",
        "N = 100\r\n",
        "numbers = [i for i in range(N) if i % 6 != 0 if i % 10 != 0]\r\n",
        "print(numbers)"
      ],
      "execution_count": 1,
      "outputs": [
        {
          "output_type": "stream",
          "text": [
            "[1, 2, 3, 4, 5, 7, 8, 9, 11, 13, 14, 15, 16, 17, 19, 21, 22, 23, 25, 26, 27, 28, 29, 31, 32, 33, 34, 35, 37, 38, 39, 41, 43, 44, 45, 46, 47, 49, 51, 52, 53, 55, 56, 57, 58, 59, 61, 62, 63, 64, 65, 67, 68, 69, 71, 73, 74, 75, 76, 77, 79, 81, 82, 83, 85, 86, 87, 88, 89, 91, 92, 93, 94, 95, 97, 98, 99]\n"
          ],
          "name": "stdout"
        }
      ]
    },
    {
      "cell_type": "markdown",
      "metadata": {
        "id": "iUELQ6Y06eGq"
      },
      "source": [
        "###  Q2) Convert mentioned below list of strings into a list of integers?\r\n",
        "[\"1\", \"2\", \"34\", \"100\"]"
      ]
    },
    {
      "cell_type": "code",
      "metadata": {
        "colab": {
          "base_uri": "https://localhost:8080/"
        },
        "id": "l_5j0V1x2eVl",
        "outputId": "c7e8fb26-369e-48a9-8ba4-a664a917f3b7"
      },
      "source": [
        "String_list = [\"1\", \"2\", \"34\", \"100\"]\r\n",
        "print('String list :-'  + str(String_list))\r\n",
        "Int_list = list(map(int, String_list))\r\n",
        "print('Integer list :-'  + str(Int_list)) "
      ],
      "execution_count": 2,
      "outputs": [
        {
          "output_type": "stream",
          "text": [
            "String list :-['1', '2', '34', '100']\n",
            "Integer list :-[1, 2, 34, 100]\n"
          ],
          "name": "stdout"
        }
      ]
    },
    {
      "cell_type": "markdown",
      "metadata": {
        "id": "MVHLicak6CIN"
      },
      "source": [
        "### Q3) Create a python generator to produce the list of numbers not divisible by Fibonacci number?"
      ]
    },
    {
      "cell_type": "code",
      "metadata": {
        "id": "0XDN9A1qRMpM",
        "colab": {
          "base_uri": "https://localhost:8080/"
        },
        "outputId": "15ad5bd0-2300-4225-814a-70fc6a497ce0"
      },
      "source": [
        "def fibonacci_generator() :\r\n",
        "    # start at 2 since 1 would divide into everything\r\n",
        "    a , b = 2 , 3\r\n",
        "    while True :\r\n",
        "        yield a\r\n",
        "        a , b = b , a + b\r\n",
        "\r\n",
        "def not_divisible():\r\n",
        "    fib = fibonacci_generator()\r\n",
        "    all_fibs = {next(fib)}\r\n",
        "    num = 1\r\n",
        "    while True:\r\n",
        "        num += 1\r\n",
        "        # only generate more fibonacci numbers when you need them\r\n",
        "        while max(all_fibs) < num:\r\n",
        "            all_fibs.add(next(fib))\r\n",
        "        if all(num % i for i in all_fibs):\r\n",
        "            yield num\r\n",
        "not_divisible_number = []\r\n",
        "for num in not_divisible():\r\n",
        "    not_divisible_number.append(num)\r\n",
        "    if num > 1000:\r\n",
        "        break\r\n",
        "print('not_divisible_number  :-  ' + str(not_divisible_number))"
      ],
      "execution_count": 3,
      "outputs": [
        {
          "output_type": "stream",
          "text": [
            "not_divisible_number  :-  [7, 11, 17, 19, 23, 29, 31, 37, 41, 43, 47, 49, 53, 59, 61, 67, 71, 73, 77, 79, 83, 97, 101, 103, 107, 109, 113, 119, 121, 127, 131, 133, 137, 139, 149, 151, 157, 161, 163, 167, 173, 179, 181, 187, 191, 193, 197, 199, 203, 209, 211, 217, 223, 227, 229, 239, 241, 251, 253, 257, 259, 263, 269, 271, 277, 281, 283, 287, 289, 293, 301, 307, 311, 313, 317, 319, 323, 329, 331, 337, 341, 343, 347, 349, 353, 359, 361, 367, 371, 373, 379, 383, 389, 391, 397, 401, 407, 409, 413, 419, 421, 427, 431, 433, 437, 439, 443, 449, 451, 457, 461, 463, 467, 469, 473, 479, 487, 491, 493, 497, 499, 503, 509, 511, 517, 521, 523, 527, 529, 539, 541, 547, 551, 553, 557, 563, 569, 571, 577, 581, 583, 587, 589, 593, 599, 601, 607, 613, 617, 619, 629, 631, 641, 643, 647, 649, 653, 659, 661, 667, 671, 673, 677, 679, 683, 691, 697, 701, 703, 707, 709, 713, 719, 721, 727, 731, 733, 737, 739, 743, 749, 751, 757, 761, 763, 769, 773, 779, 781, 787, 791, 797, 799, 803, 809, 811, 817, 821, 823, 827, 829, 833, 839, 841, 847, 851, 853, 857, 859, 863, 869, 877, 881, 883, 887, 889, 893, 899, 901, 907, 911, 913, 917, 919, 929, 931, 937, 941, 943, 947, 953, 959, 961, 967, 971, 973, 977, 983, 989, 991, 997, 1003]\n"
          ],
          "name": "stdout"
        }
      ]
    },
    {
      "cell_type": "code",
      "metadata": {
        "id": "0w3W-50GsY_r"
      },
      "source": [
        ""
      ],
      "execution_count": null,
      "outputs": []
    }
  ]
}